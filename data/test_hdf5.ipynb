{
 "cells": [
  {
   "cell_type": "code",
   "execution_count": 2,
   "metadata": {},
   "outputs": [
    {
     "name": "stderr",
     "output_type": "stream",
     "text": [
      "100%|██████████| 273/273 [01:31<00:00,  2.97it/s]\n"
     ]
    },
    {
     "name": "stdout",
     "output_type": "stream",
     "text": [
      "所有 .pt 文件已成功转换为 HDF5 文件！\n"
     ]
    }
   ],
   "source": [
    "import os\n",
    "import torch\n",
    "import h5py\n",
    "from tqdm import tqdm\n",
    "from glob import glob\n",
    "pt_folder = '/home/mila/l/le.zhang/scratch/light_align/data/tensor_data/image_embedding/dinov2-large/LLaVA558K'  # 替换为你的文件夹路径\n",
    "pt_file_list = glob(os.path.join(pt_folder, '*.pt'))\n",
    "\n",
    "\n",
    "with h5py.File('LLaVA558K.h5', 'w') as hdf:\n",
    "    tensor_counter = 0  # 用于给每个张量命名\n",
    "    for pt_file in tqdm(pt_file_list):\n",
    "        tensors = torch.load(pt_file, weights_only=True)\n",
    "        for tensor in tensors:\n",
    "            hdf.create_dataset(f'tensor_{tensor_counter}', data=tensor.numpy())\n",
    "            tensor_counter += 1\n",
    "\n",
    "print(\"所有 .pt 文件已成功转换为 HDF5 文件！\")\n"
   ]
  },
  {
   "cell_type": "code",
   "execution_count": 1,
   "metadata": {},
   "outputs": [],
   "source": [
    "import torch\n",
    "import h5py\n",
    "from torch.utils.data import Dataset\n",
    "from torch.utils.data import DataLoader\n",
    "\n",
    "class HDF5Dataset(Dataset):\n",
    "    def __init__(self, h5_file_path):\n",
    "        # Store the path to the HDF5 file\n",
    "        self.h5_file_path = h5_file_path\n",
    "        \n",
    "        # Assuming the tensors in the dataset are stored in the form of 'tensor_0', 'tensor_1', ...\n",
    "        # Get the names of all tensors (keys)\n",
    "        with h5py.File(h5_file_path, 'r') as h5_file:\n",
    "            self.tensor_keys = list(h5_file.keys())\n",
    "\n",
    "    def __len__(self):\n",
    "        # The length of the dataset is the number of tensors in the HDF5 file\n",
    "        return len(self.tensor_keys)\n",
    "    \n",
    "    def _open_hdf5(self):\n",
    "        self._hf = h5py.File(self.h5_file_path, 'r')\n",
    "\n",
    "    def __getitem__(self, idx):\n",
    "        # Open the HDF5 file\n",
    "        if not hasattr(self, '_hf'):\n",
    "            self._open_hdf5()\n",
    "        tensor_name = self.tensor_keys[idx]\n",
    "        tensor_data = torch.from_numpy(self._hf[tensor_name][...])\n",
    "        return tensor_data\n",
    "    \n",
    "    def close(self):\n",
    "        if hasattr(self, '_hf'):\n",
    "            self._hf.close()\n",
    "\n",
    "# Example usage\n",
    "h5_file_path = 'LLaVA558K.h5'\n",
    "h5_dataset = HDF5Dataset(h5_file_path)"
   ]
  },
  {
   "cell_type": "code",
   "execution_count": 2,
   "metadata": {},
   "outputs": [
    {
     "name": "stdout",
     "output_type": "stream",
     "text": [
      "torch.Size([32568, 2048])\n",
      "torch.Size([32568, 2048])\n",
      "torch.Size([32568, 2048])\n",
      "torch.Size([32568, 2048])\n",
      "torch.Size([32568, 2048])\n",
      "torch.Size([32568, 2048])\n",
      "Time taken for first 11 batches: 33.375715494155884 seconds\n"
     ]
    }
   ],
   "source": [
    "import time\n",
    "h5_dataloader = DataLoader(h5_dataset, batch_size=32568, num_workers=0)\n",
    "idx = 0\n",
    "start_time = time.time()\n",
    "for batch in h5_dataloader:\n",
    "    print(batch.shape)\n",
    "    idx += 1\n",
    "    if idx > 5:\n",
    "        break\n",
    "end_time = time.time()\n",
    "print(f\"Time taken for first 11 batches: {end_time - start_time} seconds\")"
   ]
  },
  {
   "cell_type": "code",
   "execution_count": 6,
   "metadata": {},
   "outputs": [],
   "source": [
    "import h5py\n",
    "import numpy as np\n",
    "import torch\n",
    "from torch.utils.data import Dataset\n",
    "from torch.utils.data import DataLoader\n",
    "\n",
    "class HDF5Dataset(Dataset):\n",
    "    def __init__(self, h5_file_path):\n",
    "        self.h5_file_path = h5_file_path\n",
    "        self.h5_file = h5py.File(self.h5_file_path, 'r')\n",
    "        self.tensor_keys = list(self.h5_file.keys())\n",
    "\n",
    "    def __len__(self):\n",
    "        return len(self.tensor_keys)\n",
    "\n",
    "    def __getitem__(self, idx):\n",
    "        tensor_name = self.tensor_keys[idx]\n",
    "        # 获取数据集的形状和dtype\n",
    "        dataset = self.h5_file[tensor_name]\n",
    "        shape = dataset.shape\n",
    "        dtype = dataset.dtype\n",
    "        \n",
    "        # 使用np.memmap映射到内存\n",
    "        memmapped_data = np.memmap(self.h5_file_path, mode='r', shape=shape, dtype=dtype, offset=dataset.id.get_offset())\n",
    "        \n",
    "        # 将memmapped数据转换为PyTorch张量\n",
    "        tensor_data = torch.from_numpy(memmapped_data)\n",
    "        return tensor_data\n",
    "\n",
    "    def close(self):\n",
    "        self.h5_file.close()\n",
    "\n",
    "h5_file_path = '/home/mila/l/le.zhang/scratch/light_align/data/LLaVA558K.h5'\n",
    "h5_dataset = HDF5Dataset(h5_file_path)\n"
   ]
  },
  {
   "cell_type": "code",
   "execution_count": 17,
   "metadata": {},
   "outputs": [
    {
     "name": "stdout",
     "output_type": "stream",
     "text": [
      "torch.Size([32568, 2048])\n",
      "torch.Size([32568, 2048])\n",
      "torch.Size([32568, 2048])\n",
      "torch.Size([32568, 2048])\n",
      "torch.Size([32568, 2048])\n",
      "torch.Size([32568, 2048])\n",
      "Time taken for first 11 batches: 79.70797538757324 seconds\n"
     ]
    }
   ],
   "source": [
    "import time\n",
    "h5_dataloader = DataLoader(h5_dataset, batch_size=32568, num_workers=4, prefetch_factor=2)\n",
    "idx = 0\n",
    "start_time = time.time()\n",
    "for batch in h5_dataloader:\n",
    "    print(batch.shape)\n",
    "    idx += 1\n",
    "    if idx > 5:\n",
    "        break\n",
    "end_time = time.time()\n",
    "print(f\"Time taken for first 11 batches: {end_time - start_time} seconds\")"
   ]
  },
  {
   "cell_type": "markdown",
   "metadata": {},
   "source": [
    "# current emebdding dataset"
   ]
  },
  {
   "cell_type": "code",
   "execution_count": 47,
   "metadata": {},
   "outputs": [],
   "source": [
    "import torch\n",
    "import os\n",
    "import glob\n",
    "from natsort import natsorted\n",
    "import numpy as np\n",
    "\n",
    "class VLEmbeddingDataset(Dataset):\n",
    "    def __init__(self, text_embedding_list):\n",
    "        self.text_embedding_dir = text_embedding_list\n",
    "        \n",
    "        # Note: must sort the file names to ensure the correspondence of text and image vectors\n",
    "        self.text_files = []\n",
    "        for dir_path in text_embedding_list:\n",
    "            files = glob.glob(os.path.join(dir_path, \"*.pt\"))\n",
    "            sorted_files = natsorted(files)\n",
    "            self.text_files.extend(sorted_files)\n",
    "        \n",
    "        self.text_vectors = [vector for file in self.text_files for vector in torch.load(file, weights_only=True)]\n",
    "\n",
    "\n",
    "        self.total_length = len(self.text_vectors)\n",
    "        self.text_dim = self.text_vectors[0].shape[0]\n",
    "    def __len__(self):\n",
    "        return self.total_length\n",
    "    \n",
    "    def __getitem__(self, idx):\n",
    "        return self.text_vectors[idx]\n",
    "    \n",
    "dataset = VLEmbeddingDataset(['/home/mila/l/le.zhang/scratch/light_align/data/text_embedding/gte-large-en-v1.5/LLaVA558K'])"
   ]
  },
  {
   "cell_type": "code",
   "execution_count": 48,
   "metadata": {},
   "outputs": [],
   "source": [
    "dataloader = DataLoader(dataset, batch_size=32568, shuffle=True, num_workers=0)"
   ]
  },
  {
   "cell_type": "code",
   "execution_count": 72,
   "metadata": {},
   "outputs": [
    {
     "name": "stdout",
     "output_type": "stream",
     "text": [
      "torch.Size([32568, 1024])\n"
     ]
    }
   ],
   "source": [
    "for batch in dataloader:\n",
    "    print(batch.shape)\n",
    "    break"
   ]
  },
  {
   "cell_type": "code",
   "execution_count": null,
   "metadata": {},
   "outputs": [],
   "source": []
  }
 ],
 "metadata": {
  "kernelspec": {
   "display_name": "openflamingo",
   "language": "python",
   "name": "python3"
  },
  "language_info": {
   "codemirror_mode": {
    "name": "ipython",
    "version": 3
   },
   "file_extension": ".py",
   "mimetype": "text/x-python",
   "name": "python",
   "nbconvert_exporter": "python",
   "pygments_lexer": "ipython3",
   "version": "3.9.16"
  }
 },
 "nbformat": 4,
 "nbformat_minor": 2
}
