{
 "cells": [
  {
   "cell_type": "code",
   "execution_count": 15,
   "metadata": {},
   "outputs": [
    {
     "name": "stderr",
     "output_type": "stream",
     "text": [
      "/tmp/ipykernel_1526393/163818726.py:17: FutureWarning: You are using `torch.load` with `weights_only=False` (the current default value), which uses the default pickle module implicitly. It is possible to construct malicious pickle data which will execute arbitrary code during unpickling (See https://github.com/pytorch/pytorch/blob/main/SECURITY.md#untrusted-models for more details). In a future release, the default value for `weights_only` will be flipped to `True`. This limits the functions that could be executed during unpickling. Arbitrary objects will no longer be allowed to be loaded via this mode unless they are explicitly allowlisted by the user via `torch.serialization.add_safe_globals`. We recommend you start setting `weights_only=True` for any use case where you don't have full control of the loaded file. Please open an issue on GitHub for any issues related to this experimental feature.\n",
      "  first_tensor = torch.load(os.path.join(pt_folder, pt_files[0]))\n",
      "/tmp/ipykernel_1526393/163818726.py:21: FutureWarning: You are using `torch.load` with `weights_only=False` (the current default value), which uses the default pickle module implicitly. It is possible to construct malicious pickle data which will execute arbitrary code during unpickling (See https://github.com/pytorch/pytorch/blob/main/SECURITY.md#untrusted-models for more details). In a future release, the default value for `weights_only` will be flipped to `True`. This limits the functions that could be executed during unpickling. Arbitrary objects will no longer be allowed to be loaded via this mode unless they are explicitly allowlisted by the user via `torch.serialization.add_safe_globals`. We recommend you start setting `weights_only=True` for any use case where you don't have full control of the loaded file. Please open an issue on GitHub for any issues related to this experimental feature.\n",
      "  total_samples = sum([torch.load(os.path.join(pt_folder, f)).shape[0] for f in pt_files])\n",
      "100%|██████████| 7839/7839 [04:08<00:00, 31.61it/s]"
     ]
    },
    {
     "name": "stdout",
     "output_type": "stream",
     "text": [
      "Data successfully saved to /home/mila/l/le.zhang/scratch/light_align/data/image_embedding/dinov2-large/dreamclipcc12m_images.h5\n"
     ]
    },
    {
     "name": "stderr",
     "output_type": "stream",
     "text": [
      "\n"
     ]
    }
   ],
   "source": [
    "import os\n",
    "import torch\n",
    "import h5py\n",
    "from natsort import natsorted\n",
    "from tqdm import tqdm\n",
    "# 设置路径\n",
    "pt_folder = '/home/mila/l/le.zhang/scratch/light_align/data/text_embedding/gte-large-en-v1.5/dreamclipcc12m'  # .pt 文件所在的文件夹路径\n",
    "output_hdf5_file = '/home/mila/l/le.zhang/scratch/light_align/data/text_embedding/gte-large-en-v1.5/dreamclipcc12m_longSV_captions.h5'  # 输出的 HDF5 文件名\n",
    "\n",
    "pt_folder = '/home/mila/l/le.zhang/scratch/light_align/data/image_embedding/dinov2-large/dreamclipcc12m'  # .pt 文件所在的文件夹路径\n",
    "output_hdf5_file = '/home/mila/l/le.zhang/scratch/light_align/data/image_embedding/dinov2-large/dreamclipcc12m_images.h5'  # 输出的 HDF5 文件名\n",
    "\n",
    "# 获取所有 .pt 文件名，并按自然数顺序排序\n",
    "pt_files = natsorted([f for f in os.listdir(pt_folder) if f.endswith('.pt')])\n",
    "\n",
    "# 获取张量的维度信息（假设所有张量的维度一致）\n",
    "first_tensor = torch.load(os.path.join(pt_folder, pt_files[0]),weights_only=True)\n",
    "dimension = first_tensor.shape[1]  # 获取每个样本的维度\n",
    "\n",
    "# 计算总样本数\n",
    "total_samples = sum([torch.load(os.path.join(pt_folder, f),weights_only=True).shape[0] for f in pt_files])\n",
    "\n",
    "# 创建 HDF5 文件并创建数据集\n",
    "with h5py.File(output_hdf5_file, 'w') as hdf5_file:\n",
    "    # 创建一个大的数据集来存储所有张量\n",
    "    dataset = hdf5_file.create_dataset('data', (total_samples, dimension), dtype='float32')\n",
    "    \n",
    "    # 将 .pt 文件的数据合并写入 HDF5\n",
    "    current_index = 0\n",
    "    for pt_file in tqdm(pt_files):\n",
    "        file_path = os.path.join(pt_folder, pt_file)\n",
    "        data = torch.load(file_path,weights_only=True)   # 加载张量\n",
    "        \n",
    "        num_samples = data.shape[0]  # 当前 .pt 文件中的样本数\n",
    "        dataset[current_index:current_index + num_samples] = data.numpy()\n",
    "        \n",
    "        current_index += num_samples\n",
    "\n",
    "print(f\"Data successfully saved to {output_hdf5_file}\")\n"
   ]
  },
  {
   "cell_type": "code",
   "execution_count": 5,
   "metadata": {},
   "outputs": [],
   "source": [
    "x = h5py.File(\"/home/mila/l/le.zhang/scratch/light_align/data/text_embedding/gte-large-en-v1.5/dreamclipcc3m_longSV_captions.h5\", 'r')"
   ]
  },
  {
   "cell_type": "code",
   "execution_count": 7,
   "metadata": {},
   "outputs": [
    {
     "data": {
      "text/plain": [
       "torch.Size([1024, 1024])"
      ]
     },
     "execution_count": 7,
     "metadata": {},
     "output_type": "execute_result"
    }
   ],
   "source": [
    "import torch\n",
    "data = torch.load('/home/mila/l/le.zhang/scratch/light_align/data/text_embedding/gte-large-en-v1.5/dreamclipcc3m_longSV/0.pt',weights_only=True) \n",
    "data.shape"
   ]
  },
  {
   "cell_type": "markdown",
   "metadata": {},
   "source": [
    "## Merge emebdding from two directory into one directory by averaging"
   ]
  },
  {
   "cell_type": "code",
   "execution_count": 4,
   "metadata": {},
   "outputs": [],
   "source": [
    "import torch\n",
    "import os\n",
    "import tqdm\n",
    "dir1 = '/home/mila/l/le.zhang/scratch/light_align/data/text_embedding/gte-large-en-v1.5/dreamclipcc3m'\n",
    "dir2 = '/home/mila/l/le.zhang/scratch/light_align/data/text_embedding/gte-large-en-v1.5/dreamclipcc3m_longSV'\n",
    "dir_output = '/home/mila/l/le.zhang/scratch/light_align/data/text_embedding/gte-large-en-v1.5/dreamclipcc3m_longSVshort_mixed'\n",
    "os.makedirs(dir_output,exist_ok=True)\n",
    "for file in tqdm(os.listdir(dir1)):\n",
    "    data1 = torch.load(os.path.join(dir1,file),weights_only=True)\n",
    "    data2 = torch.load(os.path.join(dir2,file),weights_only=True)\n",
    "    # take average\n",
    "    data = (data1 + data2) / 2\n",
    "    torch.save(data,os.path.join(dir_output,file))"
   ]
  },
  {
   "cell_type": "code",
   "execution_count": null,
   "metadata": {},
   "outputs": [],
   "source": []
  }
 ],
 "metadata": {
  "kernelspec": {
   "display_name": "openflamingo",
   "language": "python",
   "name": "python3"
  },
  "language_info": {
   "codemirror_mode": {
    "name": "ipython",
    "version": 3
   },
   "file_extension": ".py",
   "mimetype": "text/x-python",
   "name": "python",
   "nbconvert_exporter": "python",
   "pygments_lexer": "ipython3",
   "version": "3.9.16"
  }
 },
 "nbformat": 4,
 "nbformat_minor": 2
}
