{
 "cells": [
  {
   "cell_type": "code",
   "execution_count": 2,
   "metadata": {},
   "outputs": [],
   "source": [
    "import os\n",
    "import json\n",
    "import pandas as pd\n",
    "from tqdm import tqdm"
   ]
  },
  {
   "cell_type": "code",
   "execution_count": 3,
   "metadata": {},
   "outputs": [
    {
     "name": "stderr",
     "output_type": "stream",
     "text": [
      "Processing entries: 100%|██████████| 2513677/2513677 [01:45<00:00, 23924.72it/s] "
     ]
    },
    {
     "name": "stdout",
     "output_type": "stream",
     "text": [
      "llava_pretrain: 558128\n"
     ]
    },
    {
     "name": "stderr",
     "output_type": "stream",
     "text": [
      "\n"
     ]
    }
   ],
   "source": [
    "import os\n",
    "import jsonlines\n",
    "from tqdm import tqdm\n",
    "\n",
    "save_names = ['llava_pretrain']\n",
    "data = {name: [] for name in save_names}\n",
    "file_path = '/home/mila/l/le.zhang/scratch/datasets/Cambrian-Alignment/jsons/alignment_2.5m.jsonl'\n",
    "base_path = '/home/mila/l/le.zhang/scratch/datasets/Cambrian-Alignment'\n",
    "\n",
    "# Count the total number of lines for the progress bar\n",
    "total_lines = sum(1 for _ in open(file_path))\n",
    "\n",
    "with jsonlines.open(file_path) as reader:\n",
    "    for entry in tqdm(reader, total=total_lines, desc=\"Processing entries\"):\n",
    "        data_split = entry['image'].split('/')[1]\n",
    "        \n",
    "        if data_split in save_names:\n",
    "            if data_split == 'llava_pretrain':\n",
    "                entry['image'] = entry['image'].replace('llava_pretrain/images', 'sbu558k')\n",
    "            image_path = os.path.join(base_path, entry['image'])\n",
    "            image_path = os.path.normpath(image_path)\n",
    "            \n",
    "            if os.path.exists(image_path):\n",
    "                data[data_split].append(entry)\n",
    "            else:\n",
    "                break\n",
    "# count the number of each dataset\n",
    "for key, entries in data.items():\n",
    "    print(f\"{key}: {len(entries)}\")\n"
   ]
  },
  {
   "cell_type": "markdown",
   "metadata": {},
   "source": [
    "/home/mila/l/le.zhang/scratch/datasets/Cambrian-Alignment/sbu558k/00120/001200924.jpg"
   ]
  },
  {
   "cell_type": "code",
   "execution_count": 4,
   "metadata": {},
   "outputs": [
    {
     "name": "stdout",
     "output_type": "stream",
     "text": [
      "Saved 558128 entries to /home/mila/l/le.zhang/scratch/datasets/Cambrian-Alignment/jsons/llava_pretrain.json\n"
     ]
    }
   ],
   "source": [
    "# save as json for each data\n",
    "for key, entries in data.items():\n",
    "    save_path = f'/home/mila/l/le.zhang/scratch/datasets/Cambrian-Alignment/jsons/{key}.json'\n",
    "    with open(save_path, 'w') as f:\n",
    "        json.dump(entries, f)\n",
    "    print(f\"Saved {len(entries)} entries to {save_path}\")"
   ]
  },
  {
   "cell_type": "code",
   "execution_count": 5,
   "metadata": {},
   "outputs": [],
   "source": [
    "import torch\n",
    "from tqdm import tqdm\n",
    "def get_linear_input(sequence_output):\n",
    "    cls_token = sequence_output[:, 0]\n",
    "    patch_tokens = sequence_output[:, 1:]\n",
    "    linear_input = torch.cat([cls_token, patch_tokens.mean(dim=1)], dim=1)\n",
    "    return linear_input\n",
    "directory = '/home/mila/l/le.zhang/scratch/light_align/data/image_embedding/dinov2-base'\n",
    "for filename in os.listdir(directory):\n",
    "    if filename.endswith(\".pt\"):\n",
    "        print(os.path.join(directory, filename))\n",
    "        image_embedding = torch.load(os.path.join(directory, filename))\n",
    "        image_embedding = get_linear_input(image_embedding)\n",
    "        torch.save(image_embedding, os.path.join(directory, filename))\n",
    "    else:\n",
    "        continue"
   ]
  },
  {
   "cell_type": "code",
   "execution_count": 49,
   "metadata": {},
   "outputs": [
    {
     "name": "stdout",
     "output_type": "stream",
     "text": [
      "The values at position 453 of index 198 are different.\n",
      "File 1 value: tensor([-0.3914,  0.3975,  0.4602,  ...,  0.1035, -0.6128, -0.0597],\n",
      "       dtype=torch.float16)\n",
      "File 2 value: tensor([-0.3909,  0.3979,  0.4596,  ...,  0.1028, -0.6126, -0.0595])\n"
     ]
    }
   ],
   "source": [
    "import torch\n",
    "import random\n",
    "\n",
    "def compare_random_tensor_value(pt_file1, pt_file2, position=None):\n",
    "    # 加载 .pt 文件\n",
    "    tensor1 = torch.load(pt_file1,weights_only=True)\n",
    "    tensor2 = torch.load(pt_file2,weights_only=True)\n",
    "    # 如果没有指定位置，随机选择一个索引位置\n",
    "    if position is None:\n",
    "        position = random.randint(0, len(tensor1) - 1) \n",
    "    # 获取指定位置的值\n",
    "    value1 = tensor1[position]\n",
    "    value2 = tensor2[position]\n",
    "    \n",
    "    # 比较两个值并打印结果\n",
    " \n",
    "    print(f\"The values at position {position} of index {index} are different.\\n\"\n",
    "              f\"File 1 value: {value1}\\nFile 2 value: {value2}\")\n",
    "    \n",
    "    # return value1, value2\n",
    "\n",
    "index = random.randint(150,200)\n",
    "pt_file1 = f\"/home/mila/l/le.zhang/scratch/light_align/data/tensor_data/text_embedding/gte-large-en-v1.5/dreamclipcc3m_raw_caption/{index}.pt\"\n",
    "pt_file2 = f\"/home/mila/l/le.zhang/scratch/light_align/data/tensor_data/text_embedding/gte-large-en-v1.5/dreamclipcc3m_raw/{index}.pt\"\n",
    "compare_random_tensor_value(pt_file1,pt_file2)"
   ]
  },
  {
   "cell_type": "code",
   "execution_count": null,
   "metadata": {},
   "outputs": [],
   "source": [
    "random.randint(120)"
   ]
  },
  {
   "cell_type": "code",
   "execution_count": null,
   "metadata": {},
   "outputs": [],
   "source": [
    "import glob\n",
    "import os\n",
    "from natsort import natsorted\n",
    "path_list = ['/home/mila/l/le.zhang/scratch/light_align/data/image_embedding/dinov2-large/ALLaVAVFLAN', '/home/mila/l/le.zhang/scratch/light_align/data/image_embedding/dinov2-large/LLaVA558K']\n",
    "all_files = []\n",
    "for dir_path in path_list:\n",
    "    files = glob.glob(os.path.join(dir_path, \"*.pt\"))\n",
    "    sorted_files = natsorted(files)\n",
    "    all_files.extend(sorted_files)\n",
    "all_files"
   ]
  },
  {
   "cell_type": "code",
   "execution_count": null,
   "metadata": {},
   "outputs": [],
   "source": [
    "import os\n",
    "import json\n",
    "# read json\n",
    "with open('/home/mila/l/le.zhang/scratch/datasets/Cambrian-Alignment/jsons/llava_pretrain.json', 'r') as f:\n",
    "    sharegpt4v = json.load(f)\n",
    "with open('/home/mila/l/le.zhang/scratch/datasets/Cambrian-Alignment/jsons/sbu558k.json', 'r') as f:\n",
    "    sbu558k = json.load(f)\n",
    "with open('/home/mila/l/le.zhang/scratch/datasets/Cambrian-Alignment/jsons/coco.json', 'r') as f:\n",
    "    coco = json.load(f)\n",
    "\n",
    "\n"
   ]
  },
  {
   "cell_type": "code",
   "execution_count": null,
   "metadata": {},
   "outputs": [],
   "source": [
    "# function to caculate avg length \n",
    "def avg_length(data):\n",
    "    avg = 0\n",
    "    for entry in data:\n",
    "        avg += len(entry['conversations'][-1]['value'])\n",
    "    return avg/len(data)\n",
    "\n",
    "avg_length(sharegpt4v), avg_length(sbu558k), avg_length(coco)"
   ]
  },
  {
   "cell_type": "code",
   "execution_count": null,
   "metadata": {},
   "outputs": [],
   "source": [
    "sharegpt4v[0]"
   ]
  },
  {
   "cell_type": "code",
   "execution_count": null,
   "metadata": {},
   "outputs": [],
   "source": [
    "import os\n",
    "import torch\n",
    "from natsort import natsorted\n",
    "import glob\n",
    "\n",
    "def merge_pt_files(directory):\n",
    "    # 获取所有的 .pt 文件路径，并按名字顺序排序\n",
    "    files = glob.glob(os.path.join(directory, \"*.pt\"))\n",
    "    files = natsorted(files)\n",
    "    \n",
    "    # 确保文件数量为偶数\n",
    "    if len(files) % 2 != 0:\n",
    "        raise ValueError(\"The number of .pt files is not even. Please make sure the files can be paired.\")\n",
    "\n",
    "    # 遍历所有文件，按两个为一组进行合并\n",
    "    for i in range(0, len(files), 2):\n",
    "        file1 = files[i]\n",
    "        file2 = files[i+1]\n",
    "        \n",
    "        # 加载两个文件\n",
    "        tensor1 = torch.load(file1)\n",
    "        tensor2 = torch.load(file2)\n",
    "        \n",
    "        # 在第一个维度进行拼接\n",
    "        merged_tensor = torch.cat((tensor1, tensor2), dim=0)\n",
    "        \n",
    "        # 生成新文件名\n",
    "        base_name1 = os.path.basename(file1).replace(\".pt\", \"\")\n",
    "        base_name2 = os.path.basename(file2).replace(\".pt\", \"\")\n",
    "        new_file_name = f\"{base_name1}_{base_name2}.pt\"\n",
    "        new_file_path = os.path.join(directory, new_file_name)\n",
    "        \n",
    "        # 保存拼接后的tensor\n",
    "        torch.save(merged_tensor, new_file_path)\n",
    "        print(f\"Saved merged tensor to {new_file_path}\")\n",
    "\n",
    "# 示例用法\n",
    "# merge_pt_files('/path/to/your/directory')\n"
   ]
  },
  {
   "cell_type": "code",
   "execution_count": null,
   "metadata": {},
   "outputs": [
    {
     "name": "stderr",
     "output_type": "stream",
     "text": [
      " 89%|████████▉ | 6678/7519 [01:25<00:11, 75.70it/s] "
     ]
    },
    {
     "name": "stdout",
     "output_type": "stream",
     "text": [
      "/home/mila/l/le.zhang/scratch/light_align/data/text_embedding/gte-large-en-v1.5/dreamclipcc12mhf_longSV_captions/7518.pt 901\n"
     ]
    },
    {
     "name": "stderr",
     "output_type": "stream",
     "text": [
      "100%|██████████| 7519/7519 [01:35<00:00, 79.02it/s] "
     ]
    },
    {
     "name": "stdout",
     "output_type": "stream",
     "text": [
      "7699333\n"
     ]
    },
    {
     "name": "stderr",
     "output_type": "stream",
     "text": [
      "\n"
     ]
    }
   ],
   "source": [
    "import os\n",
    "import glob\n",
    "import torch\n",
    "from tqdm import tqdm\n",
    "file_dir = \"/home/mila/l/le.zhang/scratch/light_align/data/text_embedding/gte-large-en-v1.5/dreamclipcc12mhf_longSV_captions\"\n",
    "files = glob.glob(os.path.join(file_dir, \"*.pt\"))\n",
    "total_len = 0\n",
    "for file in tqdm(files):\n",
    "    tensor = torch.load(file, map_location=torch.device('cpu'), weights_only=False)\n",
    "    total_len += tensor.size(0)\n",
    "    if tensor.size(0) != 1024:\n",
    "        print(file, tensor.size(0))\n",
    "print(total_len)\n",
    "\n"
   ]
  },
  {
   "cell_type": "code",
   "execution_count": null,
   "metadata": {},
   "outputs": [],
   "source": [
    "import torch\n",
    "vision_embedding = torch.load('/home/mila/l/le.zhang/scratch/light_align/data/text_embedding/gte-large-en-v1.5/dreamclipcc12m_longSV_captions/5859.pt')\n",
    "print(vision_embedding.shape)   \n",
    "vision_embedding[54]"
   ]
  },
  {
   "cell_type": "code",
   "execution_count": 6,
   "metadata": {},
   "outputs": [
    {
     "name": "stderr",
     "output_type": "stream",
     "text": [
      " 90%|████████▉ | 6738/7519 [00:46<00:05, 150.44it/s]"
     ]
    },
    {
     "name": "stdout",
     "output_type": "stream",
     "text": [
      "/home/mila/l/le.zhang/scratch/light_align/data/tensor_data/image_embedding/dinov2-base/dreamclipcc12mhf/7518.pt 901\n"
     ]
    },
    {
     "name": "stderr",
     "output_type": "stream",
     "text": [
      "100%|██████████| 7519/7519 [00:52<00:00, 143.44it/s]"
     ]
    },
    {
     "name": "stdout",
     "output_type": "stream",
     "text": [
      "7699333\n"
     ]
    },
    {
     "name": "stderr",
     "output_type": "stream",
     "text": [
      "\n"
     ]
    }
   ],
   "source": [
    "import os\n",
    "import glob\n",
    "import torch\n",
    "from tqdm import tqdm\n",
    "file_dir = \"/home/mila/l/le.zhang/scratch/light_align/data/tensor_data/image_embedding/dinov2-base/dreamclipcc12mhf\"\n",
    "files = glob.glob(os.path.join(file_dir, \"*.pt\"))\n",
    "total_len = 0\n",
    "for file in tqdm(files):\n",
    "    tensor = torch.load(file, map_location=torch.device('cpu'), weights_only=False)\n",
    "    total_len += tensor.size(0)\n",
    "    if tensor.size(0) != 1024:\n",
    "        print(file, tensor.size(0))\n",
    "print(total_len)\n",
    "\n"
   ]
  },
  {
   "cell_type": "code",
   "execution_count": 1,
   "metadata": {},
   "outputs": [
    {
     "name": "stderr",
     "output_type": "stream",
     "text": [
      "100%|██████████| 2186/2186 [01:45<00:00, 20.78it/s]"
     ]
    },
    {
     "name": "stdout",
     "output_type": "stream",
     "text": [
      "/home/mila/l/le.zhang/scratch/light_align/data/tensor_data/image_embedding/dinov2-giant/dreamclipcc3m/2185.pt 633\n",
      "2238073\n"
     ]
    },
    {
     "name": "stderr",
     "output_type": "stream",
     "text": [
      "\n"
     ]
    }
   ],
   "source": [
    "import os\n",
    "import glob\n",
    "import torch\n",
    "from tqdm import tqdm\n",
    "file_dir = \"/home/mila/l/le.zhang/scratch/light_align/data/tensor_data/image_embedding/dinov2-giant/dreamclipcc3m\"\n",
    "files = glob.glob(os.path.join(file_dir, \"*.pt\"))\n",
    "total_len = 0\n",
    "for file in tqdm(files):\n",
    "    tensor = torch.load(file, map_location=torch.device('cpu'), weights_only=False)\n",
    "    total_len += tensor.size(0)\n",
    "    if tensor.size(0) != 1024:\n",
    "        print(file, tensor.size(0))\n",
    "print(total_len)\n",
    "\n"
   ]
  },
  {
   "cell_type": "code",
   "execution_count": null,
   "metadata": {},
   "outputs": [
    {
     "data": {
      "text/html": [
       "<div>\n",
       "<style scoped>\n",
       "    .dataframe tbody tr th:only-of-type {\n",
       "        vertical-align: middle;\n",
       "    }\n",
       "\n",
       "    .dataframe tbody tr th {\n",
       "        vertical-align: top;\n",
       "    }\n",
       "\n",
       "    .dataframe thead th {\n",
       "        text-align: right;\n",
       "    }\n",
       "</style>\n",
       "<table border=\"1\" class=\"dataframe\">\n",
       "  <thead>\n",
       "    <tr style=\"text-align: right;\">\n",
       "      <th></th>\n",
       "      <th>Image Url</th>\n",
       "      <th>raw_caption</th>\n",
       "      <th>shortIB_captions</th>\n",
       "      <th>longIB_captions</th>\n",
       "      <th>shortSV_captions</th>\n",
       "      <th>longSV_captions</th>\n",
       "      <th>shortLLA_captions</th>\n",
       "      <th>longLLA_captions</th>\n",
       "      <th>Image Path</th>\n",
       "    </tr>\n",
       "  </thead>\n",
       "  <tbody>\n",
       "    <tr>\n",
       "      <th>0</th>\n",
       "      <td>http://1.bp.blogspot.com/_dWmIOlGB7_0/S_HA9F1R...</td>\n",
       "      <td>this watch rolex gmt master has an independent...</td>\n",
       "      <td>a rolex watch with red and black dials</td>\n",
       "      <td>The image showcases a stunning silver and red ...</td>\n",
       "      <td>A Rolex watch with a black face and red and wh...</td>\n",
       "      <td>The image showcases a Rolex Submariner wristwa...</td>\n",
       "      <td>A silver and black watch with a red second hand.</td>\n",
       "      <td>The image features a silver and black wristwat...</td>\n",
       "      <td>CC12M_HF/images/0000000/0000000.jpg</td>\n",
       "    </tr>\n",
       "    <tr>\n",
       "      <th>1</th>\n",
       "      <td>http://2.bp.blogspot.com/-TwtZYTU4e9I/UQmEywkl...</td>\n",
       "      <td>picture of white modern bathroom furniture as ...</td>\n",
       "      <td>a white toilet sitting next to a sink in a bat...</td>\n",
       "      <td>The image showcases a modern and stylish bathr...</td>\n",
       "      <td>A bathroom with a white toilet, sink, and mirror.</td>\n",
       "      <td>The image captures a modern bathroom, bathed i...</td>\n",
       "      <td>A bathroom with a toilet and sink.</td>\n",
       "      <td>The image depicts a modern bathroom with a whi...</td>\n",
       "      <td>CC12M_HF/images/0000000/0000002.jpg</td>\n",
       "    </tr>\n",
       "    <tr>\n",
       "      <th>2</th>\n",
       "      <td>http://2.bp.blogspot.com/--K8LdRsj99U/VQaOjr33...</td>\n",
       "      <td>the american cowboy chronicles native american...</td>\n",
       "      <td>a close up of a brown bear with its mouth open</td>\n",
       "      <td>The image features a large brown bear with its...</td>\n",
       "      <td>A close up of a bear with its mouth wide open.</td>\n",
       "      <td>The image captures a close-up view of a brown ...</td>\n",
       "      <td>A close up of a brown bear with its mouth open.</td>\n",
       "      <td>The image features a large brown bear with its...</td>\n",
       "      <td>CC12M_HF/images/0000000/0000003.jpg</td>\n",
       "    </tr>\n",
       "    <tr>\n",
       "      <th>3</th>\n",
       "      <td>http://2.bp.blogspot.com/-MBHbOy37tvU/TaX19Rrr...</td>\n",
       "      <td>assimilation process in the indian style and f...</td>\n",
       "      <td>a woman in a pink sari sitting on a bed</td>\n",
       "      <td>In the picture, there are visible objects such...</td>\n",
       "      <td>A woman in a long pink dress sitting on a bed.</td>\n",
       "      <td>In the image, a woman is the central figure, s...</td>\n",
       "      <td>A woman is sitting on a bed with a pink dress.</td>\n",
       "      <td>The image features a beautiful woman wearing a...</td>\n",
       "      <td>CC12M_HF/images/0000000/0000004.jpg</td>\n",
       "    </tr>\n",
       "    <tr>\n",
       "      <th>4</th>\n",
       "      <td>http://2.bp.blogspot.com/-2HQcTDQ4oQs/V1oBoudL...</td>\n",
       "      <td>in mourning afterglow album lyrics in mourning...</td>\n",
       "      <td>a painting of a lighthouse in the middle of a ...</td>\n",
       "      <td>The painting depicts a lighthouse standing on ...</td>\n",
       "      <td>A painting of a rocky island in the middle of ...</td>\n",
       "      <td>The image presents a dramatic scene of a rocky...</td>\n",
       "      <td>A painting of a lighthouse on a rocky island s...</td>\n",
       "      <td>The image depicts a dramatic scene of a lighth...</td>\n",
       "      <td>CC12M_HF/images/0000000/0000005.jpg</td>\n",
       "    </tr>\n",
       "    <tr>\n",
       "      <th>...</th>\n",
       "      <td>...</td>\n",
       "      <td>...</td>\n",
       "      <td>...</td>\n",
       "      <td>...</td>\n",
       "      <td>...</td>\n",
       "      <td>...</td>\n",
       "      <td>...</td>\n",
       "      <td>...</td>\n",
       "      <td>...</td>\n",
       "    </tr>\n",
       "    <tr>\n",
       "      <th>99995</th>\n",
       "      <td>https://ih1.redbubble.net/image.101238260.5977...</td>\n",
       "      <td>there is always hope classic t shirt</td>\n",
       "      <td>a purple awareness ribbon with the words, i am...</td>\n",
       "      <td>The image showcases a purple awareness ribbon ...</td>\n",
       "      <td>A dark blue shirt with a teal ribbon on it.</td>\n",
       "      <td>The image showcases a navy blue t-shirt that i...</td>\n",
       "      <td>A blue shirt with a teal ribbon on it that say...</td>\n",
       "      <td>The image features a person wearing a blue shi...</td>\n",
       "      <td>CC12M_HF/images/0000012/0007289.jpg</td>\n",
       "    </tr>\n",
       "    <tr>\n",
       "      <th>99996</th>\n",
       "      <td>https://ih1.redbubble.net/image.1015926394.744...</td>\n",
       "      <td>this is for person graphic t shirt</td>\n",
       "      <td>a man wearing a white t shirt with black text ...</td>\n",
       "      <td>In the image, the person is wearing a graphic ...</td>\n",
       "      <td>A young man wearing a white and black t-shirt ...</td>\n",
       "      <td>In the image, a young man is the central figur...</td>\n",
       "      <td>A man wearing a black and white shirt with a m...</td>\n",
       "      <td>The image features a young man wearing a white...</td>\n",
       "      <td>CC12M_HF/images/0000012/0007290.jpg</td>\n",
       "    </tr>\n",
       "    <tr>\n",
       "      <th>99997</th>\n",
       "      <td>https://ih1.redbubble.net/image.1095232363.234...</td>\n",
       "      <td>the dog in the snow samsung galaxy snap case</td>\n",
       "      <td>a wolf in the snow samsung galaxy snap case</td>\n",
       "      <td>The image features a snow-covered mountain lan...</td>\n",
       "      <td>A dog in the snow looking at the mountains.</td>\n",
       "      <td>The image captures a serene winter scene. A br...</td>\n",
       "      <td>A dog is standing in the snow with mountains i...</td>\n",
       "      <td>The image features a snowy mountain landscape ...</td>\n",
       "      <td>CC12M_HF/images/0000012/0007291.jpg</td>\n",
       "    </tr>\n",
       "    <tr>\n",
       "      <th>99998</th>\n",
       "      <td>https://ih1.redbubble.net/image.1093540126.726...</td>\n",
       "      <td>person in the garden beatrix potter clock</td>\n",
       "      <td>a clock on the wall with an image of a cartoon...</td>\n",
       "      <td>In the image, there are several objectively ex...</td>\n",
       "      <td>A round clock with a rabbit and a bird on it h...</td>\n",
       "      <td>The image presents a minimalist interior setti...</td>\n",
       "      <td>A clock with a picture of a boy and a girl on ...</td>\n",
       "      <td>The image features a white wall with a clock h...</td>\n",
       "      <td>CC12M_HF/images/0000012/0007292.jpg</td>\n",
       "    </tr>\n",
       "    <tr>\n",
       "      <th>99999</th>\n",
       "      <td>https://ih1.redbubble.net/image.1089984943.859...</td>\n",
       "      <td>best coolest greatest awesome gym instructor e...</td>\n",
       "      <td>best gym instructor ever ain't no lie poster</td>\n",
       "      <td>The image features the text \"Best gym instruct...</td>\n",
       "      <td>A poster with a rainbow background and black t...</td>\n",
       "      <td>The image features a square poster with a whit...</td>\n",
       "      <td>A poster that says \"Best Gym Instructor Ever\" ...</td>\n",
       "      <td>The image features a rainbow-colored poster wi...</td>\n",
       "      <td>CC12M_HF/images/0000012/0007293.jpg</td>\n",
       "    </tr>\n",
       "  </tbody>\n",
       "</table>\n",
       "<p>100000 rows × 9 columns</p>\n",
       "</div>"
      ],
      "text/plain": [
       "                                               Image Url   \n",
       "0      http://1.bp.blogspot.com/_dWmIOlGB7_0/S_HA9F1R...  \\\n",
       "1      http://2.bp.blogspot.com/-TwtZYTU4e9I/UQmEywkl...   \n",
       "2      http://2.bp.blogspot.com/--K8LdRsj99U/VQaOjr33...   \n",
       "3      http://2.bp.blogspot.com/-MBHbOy37tvU/TaX19Rrr...   \n",
       "4      http://2.bp.blogspot.com/-2HQcTDQ4oQs/V1oBoudL...   \n",
       "...                                                  ...   \n",
       "99995  https://ih1.redbubble.net/image.101238260.5977...   \n",
       "99996  https://ih1.redbubble.net/image.1015926394.744...   \n",
       "99997  https://ih1.redbubble.net/image.1095232363.234...   \n",
       "99998  https://ih1.redbubble.net/image.1093540126.726...   \n",
       "99999  https://ih1.redbubble.net/image.1089984943.859...   \n",
       "\n",
       "                                             raw_caption   \n",
       "0      this watch rolex gmt master has an independent...  \\\n",
       "1      picture of white modern bathroom furniture as ...   \n",
       "2      the american cowboy chronicles native american...   \n",
       "3      assimilation process in the indian style and f...   \n",
       "4      in mourning afterglow album lyrics in mourning...   \n",
       "...                                                  ...   \n",
       "99995               there is always hope classic t shirt   \n",
       "99996                 this is for person graphic t shirt   \n",
       "99997       the dog in the snow samsung galaxy snap case   \n",
       "99998          person in the garden beatrix potter clock   \n",
       "99999  best coolest greatest awesome gym instructor e...   \n",
       "\n",
       "                                        shortIB_captions   \n",
       "0                 a rolex watch with red and black dials  \\\n",
       "1      a white toilet sitting next to a sink in a bat...   \n",
       "2         a close up of a brown bear with its mouth open   \n",
       "3                a woman in a pink sari sitting on a bed   \n",
       "4      a painting of a lighthouse in the middle of a ...   \n",
       "...                                                  ...   \n",
       "99995  a purple awareness ribbon with the words, i am...   \n",
       "99996  a man wearing a white t shirt with black text ...   \n",
       "99997        a wolf in the snow samsung galaxy snap case   \n",
       "99998  a clock on the wall with an image of a cartoon...   \n",
       "99999       best gym instructor ever ain't no lie poster   \n",
       "\n",
       "                                         longIB_captions   \n",
       "0      The image showcases a stunning silver and red ...  \\\n",
       "1      The image showcases a modern and stylish bathr...   \n",
       "2      The image features a large brown bear with its...   \n",
       "3      In the picture, there are visible objects such...   \n",
       "4      The painting depicts a lighthouse standing on ...   \n",
       "...                                                  ...   \n",
       "99995  The image showcases a purple awareness ribbon ...   \n",
       "99996  In the image, the person is wearing a graphic ...   \n",
       "99997  The image features a snow-covered mountain lan...   \n",
       "99998  In the image, there are several objectively ex...   \n",
       "99999  The image features the text \"Best gym instruct...   \n",
       "\n",
       "                                        shortSV_captions   \n",
       "0      A Rolex watch with a black face and red and wh...  \\\n",
       "1      A bathroom with a white toilet, sink, and mirror.   \n",
       "2         A close up of a bear with its mouth wide open.   \n",
       "3         A woman in a long pink dress sitting on a bed.   \n",
       "4      A painting of a rocky island in the middle of ...   \n",
       "...                                                  ...   \n",
       "99995        A dark blue shirt with a teal ribbon on it.   \n",
       "99996  A young man wearing a white and black t-shirt ...   \n",
       "99997        A dog in the snow looking at the mountains.   \n",
       "99998  A round clock with a rabbit and a bird on it h...   \n",
       "99999  A poster with a rainbow background and black t...   \n",
       "\n",
       "                                         longSV_captions   \n",
       "0      The image showcases a Rolex Submariner wristwa...  \\\n",
       "1      The image captures a modern bathroom, bathed i...   \n",
       "2      The image captures a close-up view of a brown ...   \n",
       "3      In the image, a woman is the central figure, s...   \n",
       "4      The image presents a dramatic scene of a rocky...   \n",
       "...                                                  ...   \n",
       "99995  The image showcases a navy blue t-shirt that i...   \n",
       "99996  In the image, a young man is the central figur...   \n",
       "99997  The image captures a serene winter scene. A br...   \n",
       "99998  The image presents a minimalist interior setti...   \n",
       "99999  The image features a square poster with a whit...   \n",
       "\n",
       "                                       shortLLA_captions   \n",
       "0       A silver and black watch with a red second hand.  \\\n",
       "1                     A bathroom with a toilet and sink.   \n",
       "2        A close up of a brown bear with its mouth open.   \n",
       "3         A woman is sitting on a bed with a pink dress.   \n",
       "4      A painting of a lighthouse on a rocky island s...   \n",
       "...                                                  ...   \n",
       "99995  A blue shirt with a teal ribbon on it that say...   \n",
       "99996  A man wearing a black and white shirt with a m...   \n",
       "99997  A dog is standing in the snow with mountains i...   \n",
       "99998  A clock with a picture of a boy and a girl on ...   \n",
       "99999  A poster that says \"Best Gym Instructor Ever\" ...   \n",
       "\n",
       "                                        longLLA_captions   \n",
       "0      The image features a silver and black wristwat...  \\\n",
       "1      The image depicts a modern bathroom with a whi...   \n",
       "2      The image features a large brown bear with its...   \n",
       "3      The image features a beautiful woman wearing a...   \n",
       "4      The image depicts a dramatic scene of a lighth...   \n",
       "...                                                  ...   \n",
       "99995  The image features a person wearing a blue shi...   \n",
       "99996  The image features a young man wearing a white...   \n",
       "99997  The image features a snowy mountain landscape ...   \n",
       "99998  The image features a white wall with a clock h...   \n",
       "99999  The image features a rainbow-colored poster wi...   \n",
       "\n",
       "                                Image Path  \n",
       "0      CC12M_HF/images/0000000/0000000.jpg  \n",
       "1      CC12M_HF/images/0000000/0000002.jpg  \n",
       "2      CC12M_HF/images/0000000/0000003.jpg  \n",
       "3      CC12M_HF/images/0000000/0000004.jpg  \n",
       "4      CC12M_HF/images/0000000/0000005.jpg  \n",
       "...                                    ...  \n",
       "99995  CC12M_HF/images/0000012/0007289.jpg  \n",
       "99996  CC12M_HF/images/0000012/0007290.jpg  \n",
       "99997  CC12M_HF/images/0000012/0007291.jpg  \n",
       "99998  CC12M_HF/images/0000012/0007292.jpg  \n",
       "99999  CC12M_HF/images/0000012/0007293.jpg  \n",
       "\n",
       "[100000 rows x 9 columns]"
      ]
     },
     "execution_count": 3,
     "metadata": {},
     "output_type": "execute_result"
    }
   ],
   "source": [
    "import pandas as pd\n",
    "from data_config import DATADIR\n",
    "# load csv file\n",
    "csv = pd.read_csv(DATADIR['dreamclipcc12mhf']['annotation'], nrows=100000)\n",
    "csv"
   ]
  },
  {
   "cell_type": "code",
   "execution_count": null,
   "metadata": {},
   "outputs": [
    {
     "data": {
      "image/png": "[encoded data removed]",
      "text/plain": [
       "<Figure size 640x480 with 1 Axes>"
      ]
     },
     "metadata": {},
     "output_type": "display_data"
    }
   ],
   "source": [
    "# open image and show\n",
    "import os\n",
    "from PIL import Image\n",
    "import matplotlib.pyplot as plt\n",
    "import random\n",
    "# 指定index为5的行是我们要显示的图像\n",
    "index = random.randint(0, 100000)\n",
    "image_path = os.path.join(DATADIR['dreamclipcc12mhf']['imagedir'], csv.iloc[index]['Image Path'])\n",
    "\n",
    "# 打开图像并显示 标题为caption\n",
    "image = Image.open(image_path)\n",
    "plt.imshow(image)\n",
    "plt.title(\"\\n\".join(csv.iloc[index]['longLLA_captions'].split(\" \")), loc='left')\n",
    "plt.show()\n"
   ]
  },
  {
   "cell_type": "code",
   "execution_count": 3,
   "metadata": {},
   "outputs": [],
   "source": [
    "import torch\n",
    "tensor_a = torch.load('/home/mila/l/le.zhang/scratch/light_align/data/tensor_data/image_embedding/dinov2-large/ALLaVAVFLAN/1.pt', weights_only=True)"
   ]
  },
  {
   "cell_type": "code",
   "execution_count": 7,
   "metadata": {},
   "outputs": [
    {
     "name": "stdout",
     "output_type": "stream",
     "text": [
      "16.00 MB\n"
     ]
    }
   ],
   "source": [
    "# measure memory usage of tensor_a in human readable format\n",
    "print(f\"{tensor_a.element_size() * tensor_a.nelement() / 1024 / 1024:.2f} MB\")"
   ]
  },
  {
   "cell_type": "code",
   "execution_count": 8,
   "metadata": {},
   "outputs": [
    {
     "name": "stdout",
     "output_type": "stream",
     "text": [
      "8.00 MB\n"
     ]
    }
   ],
   "source": [
    "# transform to fp16 and see again\n",
    "tensor_b = tensor_a.to(torch.float16)\n",
    "print(f\"{tensor_b.element_size() * tensor_b.nelement() / 1024 / 1024:.2f} MB\")"
   ]
  },
  {
   "cell_type": "code",
   "execution_count": null,
   "metadata": {},
   "outputs": [],
   "source": []
  }
 ],
 "metadata": {
  "kernelspec": {
   "display_name": "openflamingo",
   "language": "python",
   "name": "python3"
  },
  "language_info": {
   "codemirror_mode": {
    "name": "ipython",
    "version": 3
   },
   "file_extension": ".py",
   "mimetype": "text/x-python",
   "name": "python",
   "nbconvert_exporter": "python",
   "pygments_lexer": "ipython3",
   "version": "3.9.16"
  }
 },
 "nbformat": 4,
 "nbformat_minor": 2
}
