{
 "cells": [
  {
   "cell_type": "code",
   "execution_count": 18,
   "metadata": {},
   "outputs": [],
   "source": [
    "import os\n",
    "import json\n",
    "import pandas as pd\n",
    "from tqdm import tqdm"
   ]
  },
  {
   "cell_type": "code",
   "execution_count": 14,
   "metadata": {},
   "outputs": [
    {
     "name": "stderr",
     "output_type": "stream",
     "text": [
      "Processing entries: 100%|██████████| 2513677/2513677 [02:01<00:00, 20663.97it/s] "
     ]
    },
    {
     "name": "stdout",
     "output_type": "stream",
     "text": [
      "llava_pretrain: 558128\n"
     ]
    },
    {
     "name": "stderr",
     "output_type": "stream",
     "text": [
      "\n"
     ]
    }
   ],
   "source": [
    "import os\n",
    "import jsonlines\n",
    "from tqdm import tqdm\n",
    "\n",
    "save_names = ['llava_pretrain']\n",
    "data = {name: [] for name in save_names}\n",
    "file_path = '/home/mila/l/le.zhang/scratch/datasets/Cambrian-Alignment/jsons/alignment_2.5m.jsonl'\n",
    "base_path = '/home/mila/l/le.zhang/scratch/datasets/Cambrian-Alignment'\n",
    "\n",
    "# Count the total number of lines for the progress bar\n",
    "total_lines = sum(1 for _ in open(file_path))\n",
    "\n",
    "with jsonlines.open(file_path) as reader:\n",
    "    for entry in tqdm(reader, total=total_lines, desc=\"Processing entries\"):\n",
    "        data_split = entry['image'].split('/')[1]\n",
    "        \n",
    "        if data_split in save_names:\n",
    "            if data_split == 'llava_pretrain':\n",
    "                entry['image'] = entry['image'].replace('llava_pretrain/images', 'sbu558k')\n",
    "            image_path = os.path.join(base_path, entry['image'])\n",
    "            image_path = os.path.normpath(image_path)\n",
    "            \n",
    "            if os.path.exists(image_path):\n",
    "                data[data_split].append(entry)\n",
    "            else:\n",
    "                break\n",
    "# count the number of each dataset\n",
    "for key, entries in data.items():\n",
    "    print(f\"{key}: {len(entries)}\")\n"
   ]
  },
  {
   "cell_type": "code",
   "execution_count": 16,
   "metadata": {},
   "outputs": [
    {
     "data": {
      "text/plain": [
       "dict_keys(['llava_pretrain'])"
      ]
     },
     "execution_count": 16,
     "metadata": {},
     "output_type": "execute_result"
    }
   ],
   "source": [
    "data.keys()"
   ]
  },
  {
   "cell_type": "markdown",
   "metadata": {},
   "source": [
    "/home/mila/l/le.zhang/scratch/datasets/Cambrian-Alignment/sbu558k/00120/001200924.jpg"
   ]
  },
  {
   "cell_type": "code",
   "execution_count": 19,
   "metadata": {},
   "outputs": [
    {
     "name": "stdout",
     "output_type": "stream",
     "text": [
      "Saved 558128 entries to /home/mila/l/le.zhang/scratch/datasets/Cambrian-Alignment/jsons/llava_pretrain.json\n"
     ]
    }
   ],
   "source": [
    "# save as json for each data\n",
    "for key, entries in data.items():\n",
    "    save_path = f'/home/mila/l/le.zhang/scratch/datasets/Cambrian-Alignment/jsons/{key}.json'\n",
    "    with open(save_path, 'w') as f:\n",
    "        json.dump(entries, f)\n",
    "    print(f\"Saved {len(entries)} entries to {save_path}\")"
   ]
  },
  {
   "cell_type": "code",
   "execution_count": null,
   "metadata": {},
   "outputs": [],
   "source": [
    "data['sam'][0]"
   ]
  },
  {
   "cell_type": "code",
   "execution_count": null,
   "metadata": {},
   "outputs": [],
   "source": [
    "import torch\n",
    "from tqdm import tqdm\n",
    "def get_linear_input(sequence_output):\n",
    "    cls_token = sequence_output[:, 0]\n",
    "    patch_tokens = sequence_output[:, 1:]\n",
    "    linear_input = torch.cat([cls_token, patch_tokens.mean(dim=1)], dim=1)\n",
    "    return linear_input\n",
    "directory = '/home/mila/l/le.zhang/scratch/light_align/data/image_embedding/dinov2-base'\n",
    "for filename in os.listdir(directory):\n",
    "    if filename.endswith(\".pt\"):\n",
    "        print(os.path.join(directory, filename))\n",
    "        image_embedding = torch.load(os.path.join(directory, filename))\n",
    "        image_embedding = get_linear_input(image_embedding)\n",
    "        torch.save(image_embedding, os.path.join(directory, filename))\n",
    "    else:\n",
    "        continue"
   ]
  },
  {
   "cell_type": "code",
   "execution_count": null,
   "metadata": {},
   "outputs": [],
   "source": [
    "import torch\n",
    "vision_embedding = torch.load('/home/mila/l/le.zhang/scratch/light_align/data/text_embedding/gte-large-en-v1.5/sam/0.pt')\n",
    "vision_embedding.shape"
   ]
  },
  {
   "cell_type": "code",
   "execution_count": null,
   "metadata": {},
   "outputs": [],
   "source": [
    "text_embedding = torch.load('/home/mila/l/le.zhang/scratch/light_align/data/text_embedding/gte-large-en-v1.5/ALLaVALAION/1.pt')\n",
    "text_embedding.shape"
   ]
  },
  {
   "cell_type": "code",
   "execution_count": null,
   "metadata": {},
   "outputs": [],
   "source": [
    "model_name = 'all-mpnet-base-v2'\n",
    "with open(os.path.join('./text_embedding', model_name, 'metadata.json'), 'w') as f:\n",
    "    json.dump({'encoded_model_name': model_name, 'chunk_size': 5120, 'total_data_num': 558128}, f)"
   ]
  },
  {
   "cell_type": "code",
   "execution_count": null,
   "metadata": {},
   "outputs": [],
   "source": [
    "import numpy as np\n",
    "a=np.array(4.31)\n",
    "np.exp(a)"
   ]
  },
  {
   "cell_type": "code",
   "execution_count": null,
   "metadata": {},
   "outputs": [],
   "source": [
    "import glob\n",
    "import os\n",
    "from natsort import natsorted\n",
    "path_list = ['/home/mila/l/le.zhang/scratch/light_align/data/image_embedding/dinov2-large/ALLaVAVFLAN', '/home/mila/l/le.zhang/scratch/light_align/data/image_embedding/dinov2-large/LLaVA558K']\n",
    "all_files = []\n",
    "for dir_path in path_list:\n",
    "    files = glob.glob(os.path.join(dir_path, \"*.pt\"))\n",
    "    sorted_files = natsorted(files)\n",
    "    all_files.extend(sorted_files)\n",
    "all_files"
   ]
  },
  {
   "cell_type": "code",
   "execution_count": 20,
   "metadata": {},
   "outputs": [],
   "source": [
    "import os\n",
    "import json\n",
    "# read json\n",
    "with open('/home/mila/l/le.zhang/scratch/datasets/Cambrian-Alignment/jsons/llava_pretrain.json', 'r') as f:\n",
    "    sharegpt4v = json.load(f)\n",
    "with open('/home/mila/l/le.zhang/scratch/datasets/Cambrian-Alignment/jsons/sbu558k.json', 'r') as f:\n",
    "    sbu558k = json.load(f)\n",
    "with open('/home/mila/l/le.zhang/scratch/datasets/Cambrian-Alignment/jsons/coco.json', 'r') as f:\n",
    "    coco = json.load(f)\n",
    "\n",
    "\n"
   ]
  },
  {
   "cell_type": "code",
   "execution_count": 21,
   "metadata": {},
   "outputs": [
    {
     "data": {
      "text/plain": [
       "(824.5308011782244, 54.432029928618526, 816.553433597944)"
      ]
     },
     "execution_count": 21,
     "metadata": {},
     "output_type": "execute_result"
    }
   ],
   "source": [
    "# function to caculate avg length \n",
    "def avg_length(data):\n",
    "    avg = 0\n",
    "    for entry in data:\n",
    "        avg += len(entry['conversations'][-1]['value'])\n",
    "    return avg/len(data)\n",
    "\n",
    "avg_length(sharegpt4v), avg_length(sbu558k), avg_length(coco)"
   ]
  },
  {
   "cell_type": "code",
   "execution_count": 22,
   "metadata": {},
   "outputs": [
    {
     "data": {
      "text/plain": [
       "{'id': '001200924',\n",
       " 'image': './sbu558k/00120/001200924.jpg',\n",
       " 'conversations': [{'from': 'human',\n",
       "   'value': '<image>\\nWhat are the key elements in this picture?'},\n",
       "  {'from': 'gpt',\n",
       "   'value': 'The image is a weather warning poster issued by the National Weather Service for Los Angeles/Oxnard, California on Monday, October 14, 2013 at 8:32 PM PDT. The poster is divided into three sections. \\n\\nIn the top left section, there\\'s a photograph of a desert landscape with palm trees and mountains in the background. The sky above is a clear blue, suggesting a sunny day. \\n\\nThe top right section of the poster contains text that reads \"Gusty Santa Ana Winds & High Fire Danger Possible on Wednesday Fire Weather Watch Wednesday 6 AM - 6 PM L.A. & Ventura County Valleys & Mountains Excluding the San Gabriel and Antelope Valleys Rising Temperatures Gusts up to 45 mph for the mountains & 35 mph for the valleys High Humidity Low Humidity in the 70s to near 80 in the mountains\". \\n\\nThe bottom section of the poster features a photograph of a thermometer displaying a high temperature of 120 degrees Fahrenheit. The text below the thermometer reads \"Actions: Stay tuned to the latest statements and warnings Use extra caution\". \\n\\nThe overall message of the poster is a warning about the potential for strong Santa Ana winds and high fire danger in the Los Angeles/Oxnard area on Wednesday, October 16, 2013. It advises residents to stay tuned to the latest weather statements and warnings, and to use extra caution due to the high temperatures.'}]}"
      ]
     },
     "execution_count": 22,
     "metadata": {},
     "output_type": "execute_result"
    }
   ],
   "source": [
    "sharegpt4v[0]"
   ]
  },
  {
   "cell_type": "code",
   "execution_count": null,
   "metadata": {},
   "outputs": [],
   "source": []
  }
 ],
 "metadata": {
  "kernelspec": {
   "display_name": "openflamingo",
   "language": "python",
   "name": "python3"
  },
  "language_info": {
   "codemirror_mode": {
    "name": "ipython",
    "version": 3
   },
   "file_extension": ".py",
   "mimetype": "text/x-python",
   "name": "python",
   "nbconvert_exporter": "python",
   "pygments_lexer": "ipython3",
   "version": "3.9.16"
  }
 },
 "nbformat": 4,
 "nbformat_minor": 2
}
